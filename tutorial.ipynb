{
 "cells": [
  {
   "cell_type": "code",
   "execution_count": 4,
   "metadata": {},
   "outputs": [],
   "source": [
    "from typing import Optional, Any, List, Set\n",
    "from datetime import datetime\n",
    "from uuid import uuid4\n",
    "from pydantic import (\n",
    "    BaseModel, \n",
    "    Field, \n",
    "    conlist, \n",
    "    UUID4,\n",
    "    field_validator,\n",
    "    computed_field,\n",
    "    model_validator,\n",
    "    field_serializer,\n",
    "    model_serializer,\n",
    "    EmailStr,\n",
    "    ValidationError,\n",
    ")"
   ]
  },
  {
   "cell_type": "markdown",
   "metadata": {},
   "source": [
    "# Motivation\n",
    "\n",
    "Pydantic is a very powerful data validation and parsing library. With python being a dynamically typed language, it is prone to typing errors at runtime. Python can fail to give you type hints for dictionaries, which can be tedious to manage deeply nested objects. Pydantic also provides simple methods for serialization. It's fast and is the most widely used libraries for data validation. In this tutorial I will walk through all of the basic features you need to get started using pydantic efficiently. In this tutorial We will cover:\n",
    "  - Basic type validation\n",
    "  - Pydantic Special Field Types (i.e conlist, UUID4, EmailStr, and Field)\n",
    "  - Custom Field and Model Validators\n",
    "  - Handling Nested Models\n",
    "  - Computed Fields\n",
    "  - Creating Custom Field and Model Serialization Methods"
   ]
  },
  {
   "cell_type": "markdown",
   "metadata": {},
   "source": [
    "# Basic Type Validation"
   ]
  },
  {
   "cell_type": "markdown",
   "metadata": {},
   "source": [
    "In order to perform basic type validation with pydantic we inherit from the BaseModel class. The base model class has everything required to perform basic type validation on your models."
   ]
  },
  {
   "cell_type": "code",
   "execution_count": 5,
   "metadata": {},
   "outputs": [],
   "source": [
    "class Employee(BaseModel):\n",
    "    first_name: str\n",
    "    last_name: str\n",
    "    age: Optional[int] = None"
   ]
  },
  {
   "cell_type": "code",
   "execution_count": 6,
   "metadata": {},
   "outputs": [
    {
     "name": "stdout",
     "output_type": "stream",
     "text": [
      "Rob Smith is 33 years old\n"
     ]
    }
   ],
   "source": [
    "emp = Employee(first_name=\"Rob\", last_name=\"Smith\", age='33')\n",
    "emp1 = Employee(first_name=\"John\", last_name=\"Doe\", age=27)\n",
    "\n",
    "print(f\"{emp.first_name} {emp.last_name} is {emp.age} years old\")"
   ]
  },
  {
   "cell_type": "markdown",
   "metadata": {},
   "source": [
    "Here we instantiate a Employee class that inherits from BaseModel and we validate the imputs are in fact the correct type. Notice that '33' is not throwing a validation error because despite the fact that it is a string, int can still be parsed into an int. By default Pydantic is configured in 'lax' mode, which does not inforce strict type checking. We would need a type that could not be parsed into an int in order for a validation error to be thrown. For example:"
   ]
  },
  {
   "cell_type": "code",
   "execution_count": 7,
   "metadata": {},
   "outputs": [
    {
     "ename": "ValidationError",
     "evalue": "1 validation error for Employee\nage\n  Input should be a valid integer, unable to parse string as an integer [type=int_parsing, input_value='have fun', input_type=str]\n    For further information visit https://errors.pydantic.dev/2.7/v/int_parsing",
     "output_type": "error",
     "traceback": [
      "\u001b[0;31m---------------------------------------------------------------------------\u001b[0m",
      "\u001b[0;31mValidationError\u001b[0m                           Traceback (most recent call last)",
      "Cell \u001b[0;32mIn[7], line 1\u001b[0m\n\u001b[0;32m----> 1\u001b[0m emp2 \u001b[38;5;241m=\u001b[39m \u001b[43mEmployee\u001b[49m\u001b[43m(\u001b[49m\u001b[43mfirst_name\u001b[49m\u001b[38;5;241;43m=\u001b[39;49m\u001b[38;5;124;43m\"\u001b[39;49m\u001b[38;5;124;43mRob\u001b[39;49m\u001b[38;5;124;43m\"\u001b[39;49m\u001b[43m,\u001b[49m\u001b[43m \u001b[49m\u001b[43mlast_name\u001b[49m\u001b[38;5;241;43m=\u001b[39;49m\u001b[38;5;124;43m\"\u001b[39;49m\u001b[38;5;124;43mSmith\u001b[39;49m\u001b[38;5;124;43m\"\u001b[39;49m\u001b[43m,\u001b[49m\u001b[43m \u001b[49m\u001b[43mage\u001b[49m\u001b[38;5;241;43m=\u001b[39;49m\u001b[38;5;124;43m'\u001b[39;49m\u001b[38;5;124;43mhave fun\u001b[39;49m\u001b[38;5;124;43m'\u001b[39;49m\u001b[43m)\u001b[49m\n",
      "File \u001b[0;32m~/sqlalchemy-tutorial/venv/lib/python3.12/site-packages/pydantic/main.py:175\u001b[0m, in \u001b[0;36mBaseModel.__init__\u001b[0;34m(self, **data)\u001b[0m\n\u001b[1;32m    173\u001b[0m \u001b[38;5;66;03m# `__tracebackhide__` tells pytest and some other tools to omit this function from tracebacks\u001b[39;00m\n\u001b[1;32m    174\u001b[0m __tracebackhide__ \u001b[38;5;241m=\u001b[39m \u001b[38;5;28;01mTrue\u001b[39;00m\n\u001b[0;32m--> 175\u001b[0m \u001b[38;5;28;43mself\u001b[39;49m\u001b[38;5;241;43m.\u001b[39;49m\u001b[43m__pydantic_validator__\u001b[49m\u001b[38;5;241;43m.\u001b[39;49m\u001b[43mvalidate_python\u001b[49m\u001b[43m(\u001b[49m\u001b[43mdata\u001b[49m\u001b[43m,\u001b[49m\u001b[43m \u001b[49m\u001b[43mself_instance\u001b[49m\u001b[38;5;241;43m=\u001b[39;49m\u001b[38;5;28;43mself\u001b[39;49m\u001b[43m)\u001b[49m\n",
      "\u001b[0;31mValidationError\u001b[0m: 1 validation error for Employee\nage\n  Input should be a valid integer, unable to parse string as an integer [type=int_parsing, input_value='have fun', input_type=str]\n    For further information visit https://errors.pydantic.dev/2.7/v/int_parsing"
     ]
    }
   ],
   "source": [
    "emp2 = Employee(first_name=\"Rob\", last_name=\"Smith\", age='have fun')"
   ]
  },
  {
   "cell_type": "code",
   "execution_count": 8,
   "metadata": {},
   "outputs": [],
   "source": [
    "emp3 = Employee.model_validate({\"first_name\": \"joe\", \"last_name\": \"smith\"}) # just to show that age is optional"
   ]
  },
  {
   "cell_type": "markdown",
   "metadata": {},
   "source": [
    "Notice that we have to pass our properties via keyword arguments, so if we wanted to create an Employee instance from a dictionary we would have to do something like:\n",
    "`employee = Employee(**{\"first_name\": \"joe\", \"last_name\": \"smith\", \"age\": \"23\"})`\n",
    "Sometimes we would want to enforce strict typing to our models. For this Pydantic has a handly model_validate class, which solves both of these issues. Additionally Pydantic has a handy ValidationError class for elegantly catching errors and displaying the corresponding error message."
   ]
  },
  {
   "cell_type": "code",
   "execution_count": 10,
   "metadata": {},
   "outputs": [
    {
     "name": "stdout",
     "output_type": "stream",
     "text": [
      "age: Input should be a valid integer\n"
     ]
    }
   ],
   "source": [
    "try:\n",
    "    emp4 = Employee.model_validate({\"first_name\": \"joe\", \"last_name\": \"smith\", \"age\": \"23\"}, strict=True)\n",
    "except ValidationError as error:\n",
    "    for e in error.errors():\n",
    "        print(f\"{e['loc'][0]}: {e['msg']}\")\n"
   ]
  },
  {
   "cell_type": "markdown",
   "metadata": {},
   "source": [
    "## Additional Field Types"
   ]
  },
  {
   "cell_type": "markdown",
   "metadata": {},
   "source": [
    "Pydantic provides special field classes that allow for additional validation. \n",
    "  - The UUID field ensures that the field is a valid UUID. \n",
    "  - EmailStr field ensures that the string is a valid email address (no need for regex patterns)\n",
    "  - The Field function acts as a wrapper around any type and provides additional functionality to the validation of that type\n",
    "    - In this example, we use it to wrap around int and ensure that it is greater than 0 and less than 1,000,000. \n",
    "    - Alias is very useful in case the object we are reveiving has a different name than we want in its attribute.\n",
    "      - This is particularly useful for converting Javascript syntax into camel case python syntax\n",
    "  - The conlist function acts as a wrapper around the python list type to provide some extra validation like the number of elements we expect."
   ]
  },
  {
   "cell_type": "code",
   "execution_count": 18,
   "metadata": {},
   "outputs": [],
   "source": [
    "class Contractor(Employee):\n",
    "    id: UUID4\n",
    "    email: EmailStr\n",
    "    salary: int = Field(..., ge=0, le=1_000_000, alias='compensation')\n",
    "    salary_range: conlist(int, min_length=1, max_length=2) # type: ignore"
   ]
  },
  {
   "cell_type": "code",
   "execution_count": 19,
   "metadata": {},
   "outputs": [
    {
     "name": "stdout",
     "output_type": "stream",
     "text": [
      "first_name: Field required\n",
      "last_name: Field required\n",
      "compensation: Field required\n"
     ]
    }
   ],
   "source": [
    "try:\n",
    "    contractor = Contractor(id=uuid4(), \n",
    "                            email=\"rob@gmail.com\", \n",
    "                            salary=50_000,\n",
    "                            salary_range=[40_000, 60_000])\n",
    "except ValidationError as error:\n",
    "    for e in error.errors():\n",
    "        print(f\"{e['loc'][0]}: {e['msg']}\")\n"
   ]
  },
  {
   "cell_type": "markdown",
   "metadata": {},
   "source": [
    "It's also important to note that you can extend pydantic models just like you can extend any other class and it will inherit it's parent's attributes. Here we created a new class called contractor that will inherit from the Employee class. All of the validation from the employee class will take place in addition to the new Contract validation, hense the validation errors above."
   ]
  },
  {
   "cell_type": "code",
   "execution_count": 24,
   "metadata": {},
   "outputs": [],
   "source": [
    "try:\n",
    "    contractor = Contractor(id=uuid4(), \n",
    "                            first_name=\"James\",\n",
    "                            last_name=\"Lock\",\n",
    "                            email=\"rob@gmail.com\", \n",
    "                            compensation=50_000,\n",
    "                            salary_range=[40_000, 60_000])\n",
    "except ValidationError as error:\n",
    "    for e in error.errors():\n",
    "        print(f\"{e['loc'][0]}: {e['msg']}\")\n",
    "                    "
   ]
  },
  {
   "cell_type": "code",
   "execution_count": 25,
   "metadata": {},
   "outputs": [
    {
     "data": {
      "text/plain": [
       "Contractor(first_name='James', last_name='Lock', age=None, id=UUID('41e54002-ff17-405c-a27d-dc02d1aefd6e'), email='rob@gmail.com', salary=50000, salary_range=[40000, 60000])"
      ]
     },
     "execution_count": 25,
     "metadata": {},
     "output_type": "execute_result"
    }
   ],
   "source": [
    "contractor"
   ]
  },
  {
   "cell_type": "markdown",
   "metadata": {},
   "source": [
    "Notice the behavior of the alias. We pass in the name of the alias in the init function, but when the object is created it maintains the name of the attribute. Change the compensation keyword argument back to salary and you will see that pydantic will throw a type error; therefore, if you use alias you must pass in the name of the aliase when you create an instance of your model"
   ]
  },
  {
   "cell_type": "markdown",
   "metadata": {},
   "source": [
    "## Dumping schema and model values"
   ]
  },
  {
   "cell_type": "code",
   "execution_count": 26,
   "metadata": {},
   "outputs": [
    {
     "name": "stdout",
     "output_type": "stream",
     "text": [
      "{'salary', 'email', 'id', 'first_name', 'salary_range', 'last_name'}\n",
      "{'first_name': 'James', 'last_name': 'Lock', 'age': None, 'id': UUID('41e54002-ff17-405c-a27d-dc02d1aefd6e'), 'email': 'rob@gmail.com', 'salary': 50000, 'salary_range': [40000, 60000]}\n",
      "{\"first_name\":\"James\",\"last_name\":\"Lock\",\"age\":null,\"id\":\"41e54002-ff17-405c-a27d-dc02d1aefd6e\",\"email\":\"rob@gmail.com\",\"salary\":50000,\"salary_range\":[40000,60000]}\n",
      "{'properties': {'first_name': {'title': 'First Name', 'type': 'string'}, 'last_name': {'title': 'Last Name', 'type': 'string'}, 'age': {'anyOf': [{'type': 'integer'}, {'type': 'null'}], 'default': None, 'title': 'Age'}, 'id': {'format': 'uuid4', 'title': 'Id', 'type': 'string'}, 'email': {'format': 'email', 'title': 'Email', 'type': 'string'}, 'compensation': {'maximum': 1000000, 'minimum': 0, 'title': 'Compensation', 'type': 'integer'}, 'salary_range': {'items': {'type': 'integer'}, 'maxItems': 2, 'minItems': 1, 'title': 'Salary Range', 'type': 'array'}}, 'required': ['first_name', 'last_name', 'id', 'email', 'compensation', 'salary_range'], 'title': 'Contractor', 'type': 'object'}\n"
     ]
    }
   ],
   "source": [
    "# These functions are fairly self explanatory\n",
    "print(contractor.model_fields_set)\n",
    "print(contractor.model_dump()) # return dictionary of your instance\n",
    "print(contractor.model_dump_json()) # returns json\n",
    "print(contractor.model_json_schema()) # returns schema of your model"
   ]
  },
  {
   "cell_type": "markdown",
   "metadata": {},
   "source": [
    "# Custom Field Validators"
   ]
  },
  {
   "cell_type": "markdown",
   "metadata": {},
   "source": [
    "Sometimes you will want to create your own custom validation function. To do this pydantic provides a useful decorator function called field_validator. To use this you simply pass in the name of the field you would like to validate and the mode you would like to apply validation. The mode is an important parameter to understand, consider the following example:"
   ]
  },
  {
   "cell_type": "code",
   "execution_count": 46,
   "metadata": {},
   "outputs": [],
   "source": [
    "class Employee(BaseModel):\n",
    "    first_name: str\n",
    "    last_name: str\n",
    "    age: Optional[int] = None\n",
    "\n",
    "    @field_validator('first_name', mode='before')\n",
    "    def first_name_contains_space(cls, v: str):\n",
    "        if \" \" in v:\n",
    "            raise ValueError(\"first name cannot contain a space\")\n",
    "        return v\n",
    "    \n",
    "    @field_validator('last_name', mode='after')\n",
    "    def last_name_contains_space(cls, v: str):\n",
    "        if not isinstance(v, str):\n",
    "            raise ValueError(\"last_name must be a string\")\n",
    "        if \" \" in v:\n",
    "            raise ValueError(\"last name cannot contain a space\")\n",
    "        return v"
   ]
  },
  {
   "cell_type": "code",
   "execution_count": 47,
   "metadata": {},
   "outputs": [
    {
     "name": "stdout",
     "output_type": "stream",
     "text": [
      "first_name: Value error, first name cannot contain a space\n",
      "last_name: Input should be a valid string\n"
     ]
    }
   ],
   "source": [
    "try:\n",
    "    e = Employee(\n",
    "        first_name=\"Joey Scram\",\n",
    "        last_name=123,\n",
    "        age=55\n",
    "    )\n",
    "except ValidationError as error:\n",
    "    for e in error.errors():\n",
    "        print(f\"{e['loc'][0]}: {e['msg']}\")"
   ]
  },
  {
   "cell_type": "markdown",
   "metadata": {},
   "source": [
    "Notice the first validator returned a value error which we specified in our custom validation function. The second validation error did not fire and instead the default validation for the python `str` class fired instead. If we change the mode for last_name to before we will get "
   ]
  },
  {
   "cell_type": "markdown",
   "metadata": {},
   "source": [
    "# Custom Class Validators"
   ]
  },
  {
   "cell_type": "markdown",
   "metadata": {},
   "source": [
    "If we would like to validate an entire class we can do so with pydantics model_validator class, which has similar functionality to the field validator class. In the following example, we validate that the salary is in fact within our specified salary range, and we insure the user passes in a first_name and last_name instead of just name."
   ]
  },
  {
   "cell_type": "code",
   "execution_count": 57,
   "metadata": {},
   "outputs": [],
   "source": [
    "class Contractor(Employee):\n",
    "    id: UUID4\n",
    "    email: EmailStr\n",
    "    salary: int = Field(..., ge=0, le=1_000_000, alias='compensation')\n",
    "    salary_range: conlist(int, min_length=1, max_length=2) # type: ignore\n",
    "\n",
    "    @model_validator(mode='after')\n",
    "    def salary_within_range(self):\n",
    "        if self.salary < self.salary_range[0] or self.salary > self.salary_range[1]:\n",
    "            raise ValueError(\"Salary must be within range\")\n",
    "        return self\n",
    "    \n",
    "    @model_validator(mode='before')\n",
    "    @classmethod\n",
    "    def last_name_in_email(cls, data: Any):\n",
    "        if \"name\" in data:\n",
    "            raise ValueError(\"please provide a first_name and last_name and not 'name'\")\n",
    "        return data"
   ]
  },
  {
   "cell_type": "code",
   "execution_count": 58,
   "metadata": {},
   "outputs": [
    {
     "name": "stdout",
     "output_type": "stream",
     "text": [
      "LOC: () TYPE: value_error MSG: Value error, Salary must be within range\n"
     ]
    }
   ],
   "source": [
    "try:\n",
    "    contractor = Contractor(id=uuid4(), \n",
    "                            # name=\"James Lock\",\n",
    "                            first_name=\"James\",\n",
    "                            last_name=\"Lock\",\n",
    "                            email=\"rob@gmail.com\", \n",
    "                            compensation=10_000,\n",
    "                            salary_range=[40_000, 60_000])\n",
    "    \n",
    "except ValidationError as error:\n",
    "    for e in error.errors():\n",
    "        print(f\"LOC: {e['loc']} TYPE: {e['type']} MSG: {e['msg']}\")"
   ]
  },
  {
   "cell_type": "markdown",
   "metadata": {},
   "source": [
    "# Computed Fields"
   ]
  },
  {
   "cell_type": "markdown",
   "metadata": {},
   "source": [
    "Another wonderful feature of pydantic is we can compute the value of one field from the value of another field leveraging the computed_field decorator. In the example below we do exactly that."
   ]
  },
  {
   "cell_type": "code",
   "execution_count": 59,
   "metadata": {},
   "outputs": [],
   "source": [
    "class Contractor(Employee):\n",
    "    id: UUID4\n",
    "    email: EmailStr\n",
    "    salary: int = Field(..., ge=0, le=1_000_000)\n",
    "    \n",
    "    @computed_field\n",
    "    @property\n",
    "    def salary_range(self) -> List[int]:\n",
    "        return [self.salary - 10_000, self.salary + 10_000]"
   ]
  },
  {
   "cell_type": "code",
   "execution_count": 60,
   "metadata": {},
   "outputs": [],
   "source": [
    "contractor = Contractor(id=uuid4(), \n",
    "                        name=\"James Lock\",\n",
    "                        first_name=\"James\",\n",
    "                        last_name=\"Lock\",\n",
    "                        email=\"rob@gmail.com\", \n",
    "                        salary=30_000)"
   ]
  },
  {
   "cell_type": "code",
   "execution_count": 61,
   "metadata": {},
   "outputs": [
    {
     "data": {
      "text/plain": [
       "[20000, 40000]"
      ]
     },
     "execution_count": 61,
     "metadata": {},
     "output_type": "execute_result"
    }
   ],
   "source": [
    "contractor.salary_range"
   ]
  },
  {
   "cell_type": "markdown",
   "metadata": {},
   "source": [
    "# Nested Models"
   ]
  },
  {
   "cell_type": "markdown",
   "metadata": {},
   "source": [
    "Pydantic models can use other pydantic models as field attribute types, and validation will occur throughout the entire nested structure"
   ]
  },
  {
   "cell_type": "code",
   "execution_count": 62,
   "metadata": {},
   "outputs": [],
   "source": [
    "class Team(BaseModel):\n",
    "    id: int\n",
    "    name: str\n",
    "    logo: str\n",
    "\n",
    "class Game(BaseModel):\n",
    "    home_team: Team\n",
    "    away_team: Team\n",
    "    start_time: datetime\n"
   ]
  },
  {
   "cell_type": "code",
   "execution_count": 63,
   "metadata": {},
   "outputs": [],
   "source": [
    "game = Game(home_team={\"id\": 1, \"name\": \"Real Madrid\", \"logo\": \"path/to/logo\"},\n",
    "            away_team={\"id\": 2, \"name\": \"Manchester United\", \"logo\": \"path/to/logo\"},\n",
    "            start_time=datetime.now())"
   ]
  },
  {
   "cell_type": "code",
   "execution_count": 74,
   "metadata": {},
   "outputs": [
    {
     "data": {
      "text/plain": [
       "{'home_team': {'id': 1, 'name': 'Real Madrid', 'logo': 'path/to/logo'},\n",
       " 'away_team': {'id': 2, 'name': 'Manchester United', 'logo': 'path/to/logo'},\n",
       " 'start_time': datetime.datetime(2024, 4, 22, 12, 31, 32, 722643)}"
      ]
     },
     "execution_count": 74,
     "metadata": {},
     "output_type": "execute_result"
    }
   ],
   "source": [
    "game.model_dump()"
   ]
  },
  {
   "cell_type": "markdown",
   "metadata": {},
   "source": [
    "# Custom Serialization"
   ]
  },
  {
   "cell_type": "markdown",
   "metadata": {},
   "source": [
    "Another helpful feature in Pydantic is the ability to pull data from one schema and transform it to fit into another schema with custom serialization. In this example we are creating a Game class which has a home team and away team. Both teams use the Team class for their definition. When we serialize the Game class we sort the player_ids for each team in ascending order. We also customize the serialization behavior for when the model is serialized to json"
   ]
  },
  {
   "cell_type": "code",
   "execution_count": 68,
   "metadata": {},
   "outputs": [],
   "source": [
    "class Team(BaseModel):\n",
    "    id: int\n",
    "    name: str\n",
    "    logo: str\n",
    "    player_ids: Set[int]\n",
    "\n",
    "    @field_serializer('player_ids', when_used='always') # perform always\n",
    "    def sort_players(player_ids: Set[str]):\n",
    "        return sorted(player_ids)\n",
    "\n",
    "\n",
    "class Game(BaseModel):\n",
    "    home_team: Team\n",
    "    away_team: Team\n",
    "    start_time: datetime\n",
    "\n",
    "    @model_serializer(when_used='json') # perform only with json serialization\n",
    "    def serialize(self):\n",
    "        return {\n",
    "            \"home_team\": self.home_team.name, \n",
    "            \"away_team\": self.away_team.name, \n",
    "            \"start_time\": self.start_time\n",
    "        }"
   ]
  },
  {
   "cell_type": "code",
   "execution_count": 72,
   "metadata": {},
   "outputs": [],
   "source": [
    "game = Game(home_team={\"id\": 1, \"name\": \"Real Madrid\", \"logo\": \"path/to/logo\", \"player_ids\": set([2, 9, 4])},\n",
    "            away_team={\"id\": 2, \"name\": \"Manchester United\", \"logo\": \"path/to/logo\", \"player_ids\": set([7, 3, 1])},\n",
    "            start_time=datetime.now())"
   ]
  },
  {
   "cell_type": "code",
   "execution_count": 73,
   "metadata": {},
   "outputs": [
    {
     "name": "stdout",
     "output_type": "stream",
     "text": [
      "{'home_team': {'id': 1, 'name': 'Real Madrid', 'logo': 'path/to/logo', 'player_ids': [2, 4, 9]}, 'away_team': {'id': 2, 'name': 'Manchester United', 'logo': 'path/to/logo', 'player_ids': [1, 3, 7]}, 'start_time': datetime.datetime(2024, 4, 24, 19, 32, 12, 21589)}\n",
      "{\"home_team\":\"Real Madrid\",\"away_team\":\"Manchester United\",\"start_time\":\"2024-04-24T19:32:12.021589\"}\n"
     ]
    }
   ],
   "source": [
    "print(game.model_dump())\n",
    "print(game.model_dump_json())"
   ]
  },
  {
   "cell_type": "markdown",
   "metadata": {},
   "source": [
    "# Conclusion\n",
    "You are now fully equiped to use pydantic to validate your data and enjoy explicit type hints to make your python code more robust to runtime errors and a pleasure to work with. We covered the basics for type validation. We leveraged pydantic's special field types to add some of the most common field types with the required validation out of the box. We added custom functionality to our field and model validators while grasping the concept of nested models and model inheritance. Not only can you create custom fields and validators, but you can even create fields that are computed from other fields you have defined in your model. Finally, we can customize the serialization process and we are ready to validate and transform data from any schema. "
   ]
  },
  {
   "cell_type": "markdown",
   "metadata": {},
   "source": []
  }
 ],
 "metadata": {
  "kernelspec": {
   "display_name": "venv",
   "language": "python",
   "name": "python3"
  },
  "language_info": {
   "codemirror_mode": {
    "name": "ipython",
    "version": 3
   },
   "file_extension": ".py",
   "mimetype": "text/x-python",
   "name": "python",
   "nbconvert_exporter": "python",
   "pygments_lexer": "ipython3",
   "version": "3.12.2"
  }
 },
 "nbformat": 4,
 "nbformat_minor": 2
}
